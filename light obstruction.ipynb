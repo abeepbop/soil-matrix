{
 "cells": [
  {
   "cell_type": "code",
   "execution_count": 1,
   "id": "8f4f3600",
   "metadata": {},
   "outputs": [
    {
     "name": "stdout",
     "output_type": "stream",
     "text": [
      "pygame 2.5.2 (SDL 2.28.3, Python 3.9.13)\n",
      "Hello from the pygame community. https://www.pygame.org/contribute.html\n",
      "grid is 20 wide by 20 deep\n"
     ]
    },
    {
     "ename": "error",
     "evalue": "video system not initialized",
     "output_type": "error",
     "traceback": [
      "\u001b[0;31m---------------------------------------------------------------------------\u001b[0m",
      "\u001b[0;31merror\u001b[0m                                     Traceback (most recent call last)",
      "\u001b[0;32m/var/folders/0_/t_wdn2mn2bz53h10k4jmnnj80000gn/T/ipykernel_2691/177577934.py\u001b[0m in \u001b[0;36m<module>\u001b[0;34m\u001b[0m\n\u001b[1;32m     46\u001b[0m         \u001b[0mt_click\u001b[0m \u001b[0;34m=\u001b[0m \u001b[0;32mFalse\u001b[0m\u001b[0;34m\u001b[0m\u001b[0;34m\u001b[0m\u001b[0m\n\u001b[1;32m     47\u001b[0m \u001b[0;34m\u001b[0m\u001b[0m\n\u001b[0;32m---> 48\u001b[0;31m     \u001b[0mbuttons\u001b[0m \u001b[0;34m=\u001b[0m \u001b[0mpygame\u001b[0m\u001b[0;34m.\u001b[0m\u001b[0mmouse\u001b[0m\u001b[0;34m.\u001b[0m\u001b[0mget_pressed\u001b[0m\u001b[0;34m(\u001b[0m\u001b[0;34m)\u001b[0m\u001b[0;34m\u001b[0m\u001b[0;34m\u001b[0m\u001b[0m\n\u001b[0m\u001b[1;32m     49\u001b[0m     \u001b[0;31m#if a click starts.\u001b[0m\u001b[0;34m\u001b[0m\u001b[0;34m\u001b[0m\u001b[0m\n\u001b[1;32m     50\u001b[0m     \u001b[0;32mif\u001b[0m \u001b[0mbuttons\u001b[0m\u001b[0;34m[\u001b[0m\u001b[0;36m0\u001b[0m\u001b[0;34m]\u001b[0m\u001b[0;34m:\u001b[0m\u001b[0;34m\u001b[0m\u001b[0;34m\u001b[0m\u001b[0m\n",
      "\u001b[0;31merror\u001b[0m: video system not initialized"
     ]
    }
   ],
   "source": [
    "import sys, pygame, math\n",
    "import numpy as np\n",
    "from numpy import random\n",
    "from cellsubstrate import * \n",
    "\n",
    "pygame.init()\n",
    "clock = pygame.time.Clock()\n",
    "dt = 0\n",
    "t = 0\n",
    "size = width, height = 700, 700\n",
    "black = 0, 0, 0 \n",
    "color = 100,100,100\n",
    "\n",
    "screen = pygame.display.set_mode(size)#, pygame.FULLSCREEN)\n",
    "\n",
    "w, h = 20, 20\n",
    "light_sources = []\n",
    "for i in range(w):\n",
    "    light_sources.append([0,i])\n",
    "grid = Substrate(w, h, width, height, light_sources)\n",
    "\n",
    "print(\"grid is\",grid.grid_width,\"wide by\",grid.grid_height,\"deep\")\n",
    "\n",
    "click = False\n",
    "t_click = False\n",
    "\n",
    "while True:\n",
    "    #quit game\n",
    "    for event in pygame.event.get():\n",
    "        if event.type == pygame.QUIT: \n",
    "            pygame.quit()\n",
    "            sys.exit()\n",
    "\n",
    "    keys = pygame.key.get_pressed()\n",
    "    if keys[pygame.K_q]:\n",
    "        pygame.display.quit()\n",
    "        pygame.quit()\n",
    "        #sys.exit()\n",
    "        exit()\n",
    "        \n",
    "    if keys[pygame.K_t]:\n",
    "        if t_click == False:\n",
    "            t_click = True\n",
    "            grid.displaytemp = not grid.displaytemp\n",
    "    else:\n",
    "        t_click = False\n",
    "    \n",
    "    buttons = pygame.mouse.get_pressed()\n",
    "    #if a click starts.\n",
    "    if buttons[0]:\n",
    "        if click == False:\n",
    "            click = True\n",
    "            #put a cell at this location\n",
    "            grid.add_vivo(pygame.mouse.get_pos())\n",
    "    #if a click starts.\n",
    "    elif buttons[2]:\n",
    "        if click == False:\n",
    "            click = True\n",
    "            #put a grid obstruction at this location\n",
    "            grid.obstruct(pygame.mouse.get_pos())\n",
    "    else: \n",
    "        click = False\n",
    "    \n",
    "\n",
    "    grid.update(dt)\n",
    "    \n",
    "    #graphics\n",
    "    screen.fill(black)\n",
    "    grid.draw(screen) #DRAW the grid.\n",
    "    pygame.display.flip()\n",
    "\n",
    "    # limits FPS to 60\n",
    "    # dt is delta time in seconds since last frame, used for framerate-\n",
    "    # independent physics.\n",
    "    dt = clock.tick(60) / 1000"
   ]
  }
 ],
 "metadata": {
  "kernelspec": {
   "display_name": "Python 3 (ipykernel)",
   "language": "python",
   "name": "python3"
  },
  "language_info": {
   "codemirror_mode": {
    "name": "ipython",
    "version": 3
   },
   "file_extension": ".py",
   "mimetype": "text/x-python",
   "name": "python",
   "nbconvert_exporter": "python",
   "pygments_lexer": "ipython3",
   "version": "3.9.13"
  }
 },
 "nbformat": 4,
 "nbformat_minor": 5
}
